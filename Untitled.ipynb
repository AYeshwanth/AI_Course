{
 "cells": [
  {
   "cell_type": "code",
   "execution_count": 2,
   "metadata": {},
   "outputs": [
    {
     "name": "stderr",
     "output_type": "stream",
     "text": [
      "Using TensorFlow backend.\n"
     ]
    }
   ],
   "source": [
    "import numpy as np\n",
    "from keras import models\n"
   ]
  },
  {
   "cell_type": "code",
   "execution_count": 3,
   "metadata": {},
   "outputs": [],
   "source": [
    "import pandas as pd\n",
    "import pylab"
   ]
  },
  {
   "cell_type": "code",
   "execution_count": 4,
   "metadata": {
    "collapsed": true
   },
   "outputs": [],
   "source": [
    "from keras import layers\n",
    "from keras.callbacks import History\n",
    "from keras.models import model_from_json\n",
    "from keras.utils import to_categorical\n",
    "import matplotlib.pyplot as plt\n",
    "from keras.datasets import mnist\n",
    "from keras.models import model_from_json\n",
    "from keras import optimizers\n",
    "from keras.callbacks import CSVLogger"
   ]
  },
  {
   "cell_type": "code",
   "execution_count": 5,
   "metadata": {
    "collapsed": true
   },
   "outputs": [],
   "source": [
    "(train_images,train_labels),(test_images,test_labels)= mnist.load_data()"
   ]
  },
  {
   "cell_type": "code",
   "execution_count": 6,
   "metadata": {
    "collapsed": true
   },
   "outputs": [],
   "source": [
    "#Pre - Processing\n",
    "train_images=train_images.reshape((60000,28*28))\n",
    "test_images=test_images.reshape((10000,28*28))\n",
    "\n",
    "train_images=train_images.astype('float32')/255\n",
    "test_images=test_images.astype('float32')/255"
   ]
  },
  {
   "cell_type": "code",
   "execution_count": 7,
   "metadata": {
    "collapsed": true
   },
   "outputs": [],
   "source": [
    "#Labels\n",
    "train_labels=to_categorical(train_labels)\n",
    "test_labels=to_categorical(test_labels)"
   ]
  },
  {
   "cell_type": "code",
   "execution_count": 8,
   "metadata": {
    "collapsed": true
   },
   "outputs": [],
   "source": [
    "\n",
    "adam1 = optimizers.Adam(lr = 0.0001)\n",
    "adam2 = optimizers.Adam(lr = 0.0005)\n",
    "adam3 = optimizers.Adam(lr = 0.001)\n",
    "adam4 = optimizers.Adam(lr = 0.005)\n"
   ]
  },
  {
   "cell_type": "code",
   "execution_count": 17,
   "metadata": {
    "collapsed": true
   },
   "outputs": [],
   "source": [
    "network1=models.Sequential()\n",
    "network1.add(layers.Dense(784,activation='relu',input_shape=(28*28,)))\n",
    "#network1.add(layers.Dense(512, activation = 'relu'))\n",
    "#network1.add(layers.Dense(256, activation = 'relu'))\n",
    "network1.add(layers.Dense(10,activation='softmax'))\n",
    "network1.compile(optimizer='SGD',loss='mean_squared_error',metrics=['accuracy'])"
   ]
  },
  {
   "cell_type": "code",
   "execution_count": 18,
   "metadata": {},
   "outputs": [
    {
     "name": "stdout",
     "output_type": "stream",
     "text": [
      "_________________________________________________________________\n",
      "Layer (type)                 Output Shape              Param #   \n",
      "=================================================================\n",
      "dense_10 (Dense)             (None, 784)               615440    \n",
      "_________________________________________________________________\n",
      "dense_11 (Dense)             (None, 10)                7850      \n",
      "=================================================================\n",
      "Total params: 623,290\n",
      "Trainable params: 623,290\n",
      "Non-trainable params: 0\n",
      "_________________________________________________________________\n"
     ]
    }
   ],
   "source": [
    "network1.summary()"
   ]
  },
  {
   "cell_type": "code",
   "execution_count": 19,
   "metadata": {
    "scrolled": true
   },
   "outputs": [
    {
     "name": "stdout",
     "output_type": "stream",
     "text": [
      "Train on 60000 samples, validate on 10000 samples\n",
      "Epoch 1/10\n",
      "60000/60000 [==============================] - 32s - loss: 0.0824 - acc: 0.4148 - val_loss: 0.0729 - val_acc: 0.6074\n",
      "Epoch 2/10\n",
      "60000/60000 [==============================] - 25s - loss: 0.0637 - acc: 0.6677 - val_loss: 0.0534 - val_acc: 0.7345\n",
      "Epoch 3/10\n",
      "60000/60000 [==============================] - 26s - loss: 0.0477 - acc: 0.7548 - val_loss: 0.0407 - val_acc: 0.7977\n",
      "Epoch 4/10\n",
      "60000/60000 [==============================] - 24s - loss: 0.0379 - acc: 0.8099 - val_loss: 0.0330 - val_acc: 0.8380\n",
      "Epoch 5/10\n",
      "60000/60000 [==============================] - 23s - loss: 0.0318 - acc: 0.8397 - val_loss: 0.0283 - val_acc: 0.8578\n",
      "Epoch 6/10\n",
      "60000/60000 [==============================] - 21s - loss: 0.0279 - acc: 0.8547 - val_loss: 0.0252 - val_acc: 0.8701\n",
      "Epoch 7/10\n",
      "60000/60000 [==============================] - 19s - loss: 0.0253 - acc: 0.8646 - val_loss: 0.0231 - val_acc: 0.8782\n",
      "Epoch 8/10\n",
      "60000/60000 [==============================] - 19s - loss: 0.0234 - acc: 0.8722 - val_loss: 0.0215 - val_acc: 0.8849\n",
      "Epoch 9/10\n",
      "60000/60000 [==============================] - 19s - loss: 0.0220 - acc: 0.8775 - val_loss: 0.0203 - val_acc: 0.8883\n",
      "Epoch 10/10\n",
      "60000/60000 [==============================] - 22s - loss: 0.0209 - acc: 0.8817 - val_loss: 0.0193 - val_acc: 0.8929\n"
     ]
    }
   ],
   "source": [
    "csv_logger1 = CSVLogger('training1.csv')\n",
    "h1=network1.fit(train_images,train_labels, verbose = True, validation_data=(test_images,test_labels),epochs=10,batch_size=32, callbacks=[csv_logger1])"
   ]
  },
  {
   "cell_type": "code",
   "execution_count": 20,
   "metadata": {
    "collapsed": true
   },
   "outputs": [],
   "source": [
    "network2=models.Sequential()\n",
    "network2.add(layers.Dense(784,activation='relu',input_shape=(28*28,)))\n",
    "network2.add(layers.Dense(512, activation = 'relu'))\n",
    "#network1.add(layers.Dense(256, activation = 'relu'))\n",
    "network2.add(layers.Dense(10,activation='softmax'))\n",
    "network2.compile(optimizer='SGD',loss='mean_squared_error',metrics=['accuracy'])"
   ]
  },
  {
   "cell_type": "code",
   "execution_count": 21,
   "metadata": {},
   "outputs": [
    {
     "name": "stdout",
     "output_type": "stream",
     "text": [
      "_________________________________________________________________\n",
      "Layer (type)                 Output Shape              Param #   \n",
      "=================================================================\n",
      "dense_12 (Dense)             (None, 784)               615440    \n",
      "_________________________________________________________________\n",
      "dense_13 (Dense)             (None, 512)               401920    \n",
      "_________________________________________________________________\n",
      "dense_14 (Dense)             (None, 10)                5130      \n",
      "=================================================================\n",
      "Total params: 1,022,490\n",
      "Trainable params: 1,022,490\n",
      "Non-trainable params: 0\n",
      "_________________________________________________________________\n"
     ]
    }
   ],
   "source": [
    "network2.summary()"
   ]
  },
  {
   "cell_type": "code",
   "execution_count": 22,
   "metadata": {
    "scrolled": true
   },
   "outputs": [
    {
     "name": "stdout",
     "output_type": "stream",
     "text": [
      "Train on 60000 samples, validate on 10000 samples\n",
      "Epoch 1/10\n",
      "60000/60000 [==============================] - 48s - loss: 0.0858 - acc: 0.3158 - val_loss: 0.0793 - val_acc: 0.4985\n",
      "Epoch 2/10\n",
      "60000/60000 [==============================] - 36s - loss: 0.0712 - acc: 0.5890 - val_loss: 0.0612 - val_acc: 0.6697\n",
      "Epoch 3/10\n",
      "60000/60000 [==============================] - 37s - loss: 0.0528 - acc: 0.7196 - val_loss: 0.0436 - val_acc: 0.7934\n",
      "Epoch 4/10\n",
      "60000/60000 [==============================] - 36s - loss: 0.0386 - acc: 0.8149 - val_loss: 0.0324 - val_acc: 0.8456\n",
      "Epoch 5/10\n",
      "60000/60000 [==============================] - 38s - loss: 0.0302 - acc: 0.8497 - val_loss: 0.0261 - val_acc: 0.8670\n",
      "Epoch 6/10\n",
      "60000/60000 [==============================] - 38s - loss: 0.0254 - acc: 0.8668 - val_loss: 0.0225 - val_acc: 0.8807\n",
      "Epoch 7/10\n",
      "60000/60000 [==============================] - 46s - loss: 0.0225 - acc: 0.8776 - val_loss: 0.0203 - val_acc: 0.8883\n",
      "Epoch 8/10\n",
      "60000/60000 [==============================] - 43s - loss: 0.0205 - acc: 0.8851 - val_loss: 0.0187 - val_acc: 0.8946\n",
      "Epoch 9/10\n",
      "60000/60000 [==============================] - 46s - loss: 0.0191 - acc: 0.8904 - val_loss: 0.0175 - val_acc: 0.8987\n",
      "Epoch 10/10\n",
      "60000/60000 [==============================] - 47s - loss: 0.0180 - acc: 0.8947 - val_loss: 0.0167 - val_acc: 0.9024\n"
     ]
    }
   ],
   "source": [
    "csv_logger2 = CSVLogger('training2.csv')\n",
    "h2=network2.fit(train_images,train_labels, verbose = True, validation_data=(test_images,test_labels),epochs=10,batch_size=32, callbacks=[csv_logger2])"
   ]
  },
  {
   "cell_type": "code",
   "execution_count": 23,
   "metadata": {
    "collapsed": true
   },
   "outputs": [],
   "source": [
    "network3=models.Sequential()\n",
    "network3.add(layers.Dense(784,activation='relu',input_shape=(28*28,)))\n",
    "network3.add(layers.Dense(512, activation = 'relu'))\n",
    "network3.add(layers.Dense(256, activation = 'relu'))\n",
    "network3.add(layers.Dense(10,activation='softmax'))\n",
    "network3.compile(optimizer='SGD',loss='mean_squared_error',metrics=['accuracy'])"
   ]
  },
  {
   "cell_type": "code",
   "execution_count": 24,
   "metadata": {},
   "outputs": [
    {
     "name": "stdout",
     "output_type": "stream",
     "text": [
      "_________________________________________________________________\n",
      "Layer (type)                 Output Shape              Param #   \n",
      "=================================================================\n",
      "dense_15 (Dense)             (None, 784)               615440    \n",
      "_________________________________________________________________\n",
      "dense_16 (Dense)             (None, 512)               401920    \n",
      "_________________________________________________________________\n",
      "dense_17 (Dense)             (None, 256)               131328    \n",
      "_________________________________________________________________\n",
      "dense_18 (Dense)             (None, 10)                2570      \n",
      "=================================================================\n",
      "Total params: 1,151,258\n",
      "Trainable params: 1,151,258\n",
      "Non-trainable params: 0\n",
      "_________________________________________________________________\n"
     ]
    }
   ],
   "source": [
    "network3.summary()"
   ]
  },
  {
   "cell_type": "code",
   "execution_count": 25,
   "metadata": {
    "scrolled": true
   },
   "outputs": [
    {
     "name": "stdout",
     "output_type": "stream",
     "text": [
      "Train on 60000 samples, validate on 10000 samples\n",
      "Epoch 1/10\n",
      "60000/60000 [==============================] - 54s - loss: 0.0870 - acc: 0.3419 - val_loss: 0.0828 - val_acc: 0.4634\n",
      "Epoch 2/10\n",
      "60000/60000 [==============================] - 115s - loss: 0.0752 - acc: 0.5087 - val_loss: 0.0652 - val_acc: 0.5836\n",
      "Epoch 3/10\n",
      "60000/60000 [==============================] - 162s - loss: 0.0551 - acc: 0.6791 - val_loss: 0.0445 - val_acc: 0.7776\n",
      "Epoch 4/10\n",
      "60000/60000 [==============================] - 175s - loss: 0.0380 - acc: 0.8126 - val_loss: 0.0308 - val_acc: 0.8558\n",
      "Epoch 5/10\n",
      "60000/60000 [==============================] - 176s - loss: 0.0280 - acc: 0.8574 - val_loss: 0.0239 - val_acc: 0.8772\n",
      "Epoch 6/10\n",
      "60000/60000 [==============================] - 145s - loss: 0.0229 - acc: 0.8762 - val_loss: 0.0202 - val_acc: 0.8902\n",
      "Epoch 7/10\n",
      "60000/60000 [==============================] - 138s - loss: 0.0201 - acc: 0.8875 - val_loss: 0.0181 - val_acc: 0.8963\n",
      "Epoch 8/10\n",
      "60000/60000 [==============================] - 138s - loss: 0.0182 - acc: 0.8937 - val_loss: 0.0166 - val_acc: 0.9005\n",
      "Epoch 9/10\n",
      "60000/60000 [==============================] - 147s - loss: 0.0170 - acc: 0.8990 - val_loss: 0.0156 - val_acc: 0.9049\n",
      "Epoch 10/10\n",
      "60000/60000 [==============================] - 155s - loss: 0.0160 - acc: 0.9029 - val_loss: 0.0149 - val_acc: 0.9092\n"
     ]
    }
   ],
   "source": [
    "csv_logger3 = CSVLogger('training3.csv')\n",
    "h3=network3.fit(train_images,train_labels, verbose = True, validation_data=(test_images,test_labels),epochs=10,batch_size=32, callbacks=[csv_logger3])"
   ]
  },
  {
   "cell_type": "code",
   "execution_count": 29,
   "metadata": {},
   "outputs": [
    {
     "name": "stdout",
     "output_type": "stream",
     "text": [
      "_________________________________________________________________\n",
      "Layer (type)                 Output Shape              Param #   \n",
      "=================================================================\n",
      "dense_19 (Dense)             (None, 784)               615440    \n",
      "_________________________________________________________________\n",
      "dense_20 (Dense)             (None, 512)               401920    \n",
      "_________________________________________________________________\n",
      "dense_21 (Dense)             (None, 256)               131328    \n",
      "_________________________________________________________________\n",
      "dense_22 (Dense)             (None, 128)               32896     \n",
      "_________________________________________________________________\n",
      "dense_23 (Dense)             (None, 10)                1290      \n",
      "=================================================================\n",
      "Total params: 1,182,874\n",
      "Trainable params: 1,182,874\n",
      "Non-trainable params: 0\n",
      "_________________________________________________________________\n"
     ]
    }
   ],
   "source": [
    "network4=models.Sequential()\n",
    "network4.add(layers.Dense(784,activation='relu',input_shape=(28*28,)))\n",
    "network4.add(layers.Dense(512, activation = 'relu'))\n",
    "network4.add(layers.Dense(256, activation = 'relu'))\n",
    "network4.add(layers.Dense(128, activation = 'relu'))\n",
    "network4.add(layers.Dense(10,activation='softmax'))\n",
    "network4.compile(optimizer='SGD',loss='mean_squared_error',metrics=['accuracy'])\n",
    "network4.summary()\n"
   ]
  },
  {
   "cell_type": "code",
   "execution_count": 30,
   "metadata": {},
   "outputs": [
    {
     "name": "stdout",
     "output_type": "stream",
     "text": [
      "Train on 60000 samples, validate on 10000 samples\n",
      "Epoch 1/10\n",
      "60000/60000 [==============================] - 175s - loss: 0.0884 - acc: 0.2813 - val_loss: 0.0862 - val_acc: 0.4456\n",
      "Epoch 2/10\n",
      "60000/60000 [==============================] - 169s - loss: 0.0825 - acc: 0.5302 - val_loss: 0.0766 - val_acc: 0.5966\n",
      "Epoch 3/10\n",
      "60000/60000 [==============================] - 152s - loss: 0.0666 - acc: 0.6331 - val_loss: 0.0538 - val_acc: 0.7031\n",
      "Epoch 4/10\n",
      "60000/60000 [==============================] - 144s - loss: 0.0438 - acc: 0.7751 - val_loss: 0.0335 - val_acc: 0.8476\n",
      "Epoch 5/10\n",
      "60000/60000 [==============================] - 153s - loss: 0.0291 - acc: 0.8556 - val_loss: 0.0239 - val_acc: 0.8743\n",
      "Epoch 6/10\n",
      "60000/60000 [==============================] - 151s - loss: 0.0225 - acc: 0.8781 - val_loss: 0.0195 - val_acc: 0.8894\n",
      "Epoch 7/10\n",
      "60000/60000 [==============================] - 160s - loss: 0.0191 - acc: 0.8905 - val_loss: 0.0172 - val_acc: 0.8984\n",
      "Epoch 8/10\n",
      "60000/60000 [==============================] - 147s - loss: 0.0172 - acc: 0.8981 - val_loss: 0.0157 - val_acc: 0.9064\n",
      "Epoch 9/10\n",
      "60000/60000 [==============================] - 143s - loss: 0.0159 - acc: 0.9041 - val_loss: 0.0146 - val_acc: 0.9116\n",
      "Epoch 10/10\n",
      "60000/60000 [==============================] - 140s - loss: 0.0149 - acc: 0.9090 - val_loss: 0.0138 - val_acc: 0.9165\n"
     ]
    }
   ],
   "source": [
    "csv_logger4 = CSVLogger('training4.csv')\n",
    "h4=network4.fit(train_images,train_labels, verbose = True, validation_data=(test_images,test_labels),epochs=10,batch_size=32, callbacks=[csv_logger4])\n"
   ]
  },
  {
   "cell_type": "code",
   "execution_count": 31,
   "metadata": {},
   "outputs": [
    {
     "name": "stdout",
     "output_type": "stream",
     "text": [
      "_________________________________________________________________\n",
      "Layer (type)                 Output Shape              Param #   \n",
      "=================================================================\n",
      "dense_24 (Dense)             (None, 784)               615440    \n",
      "_________________________________________________________________\n",
      "dense_25 (Dense)             (None, 512)               401920    \n",
      "_________________________________________________________________\n",
      "dense_26 (Dense)             (None, 256)               131328    \n",
      "_________________________________________________________________\n",
      "dense_27 (Dense)             (None, 128)               32896     \n",
      "_________________________________________________________________\n",
      "dense_28 (Dense)             (None, 64)                8256      \n",
      "_________________________________________________________________\n",
      "dense_29 (Dense)             (None, 10)                650       \n",
      "=================================================================\n",
      "Total params: 1,190,490\n",
      "Trainable params: 1,190,490\n",
      "Non-trainable params: 0\n",
      "_________________________________________________________________\n"
     ]
    }
   ],
   "source": [
    "network5=models.Sequential()\n",
    "network5.add(layers.Dense(784,activation='relu',input_shape=(28*28,)))\n",
    "network5.add(layers.Dense(512, activation = 'relu'))\n",
    "network5.add(layers.Dense(256, activation = 'relu'))\n",
    "network5.add(layers.Dense(128, activation = 'relu'))\n",
    "network5.add(layers.Dense(64, activation = 'relu'))\n",
    "network5.add(layers.Dense(10,activation='softmax'))\n",
    "network5.compile(optimizer='SGD',loss='mean_squared_error',metrics=['accuracy'])\n",
    "network5.summary()\n"
   ]
  },
  {
   "cell_type": "code",
   "execution_count": 32,
   "metadata": {},
   "outputs": [
    {
     "name": "stdout",
     "output_type": "stream",
     "text": [
      "Train on 60000 samples, validate on 10000 samples\n",
      "Epoch 1/10\n",
      "60000/60000 [==============================] - 155s - loss: 0.0897 - acc: 0.1371 - val_loss: 0.0890 - val_acc: 0.2674\n",
      "Epoch 2/10\n",
      "60000/60000 [==============================] - 150s - loss: 0.0878 - acc: 0.3937 - val_loss: 0.0861 - val_acc: 0.4790\n",
      "Epoch 3/10\n",
      "60000/60000 [==============================] - 147s - loss: 0.0832 - acc: 0.5099 - val_loss: 0.0784 - val_acc: 0.5451\n",
      "Epoch 4/10\n",
      "60000/60000 [==============================] - 142s - loss: 0.0699 - acc: 0.5788 - val_loss: 0.0588 - val_acc: 0.6392\n",
      "Epoch 5/10\n",
      "60000/60000 [==============================] - 148s - loss: 0.0491 - acc: 0.7176 - val_loss: 0.0379 - val_acc: 0.802071\n",
      "Epoch 6/10\n",
      "60000/60000 [==============================] - 1114s - loss: 0.0314 - acc: 0.8328 - val_loss: 0.0249 - val_acc: 0.8642\n",
      "Epoch 7/10\n",
      "60000/60000 [==============================] - 52s - loss: 0.0228 - acc: 0.8709 - val_loss: 0.0196 - val_acc: 0.8878\n",
      "Epoch 8/10\n",
      "60000/60000 [==============================] - 66s - loss: 0.0189 - acc: 0.8882 - val_loss: 0.0169 - val_acc: 0.8988\n",
      "Epoch 9/10\n",
      "60000/60000 [==============================] - 49s - loss: 0.0167 - acc: 0.8988 - val_loss: 0.0153 - val_acc: 0.9053\n",
      "Epoch 10/10\n",
      "60000/60000 [==============================] - 48s - loss: 0.0153 - acc: 0.9053 - val_loss: 0.0142 - val_acc: 0.9111\n"
     ]
    }
   ],
   "source": [
    "csv_logger5 = CSVLogger('training5.csv')\n",
    "h5=network5.fit(train_images,train_labels, verbose = True, validation_data=(test_images,test_labels),epochs=10,batch_size=32, callbacks=[csv_logger5])\n"
   ]
  },
  {
   "cell_type": "code",
   "execution_count": 33,
   "metadata": {},
   "outputs": [
    {
     "name": "stdout",
     "output_type": "stream",
     "text": [
      "_________________________________________________________________\n",
      "Layer (type)                 Output Shape              Param #   \n",
      "=================================================================\n",
      "dense_30 (Dense)             (None, 784)               615440    \n",
      "_________________________________________________________________\n",
      "dense_31 (Dense)             (None, 512)               401920    \n",
      "_________________________________________________________________\n",
      "dense_32 (Dense)             (None, 256)               131328    \n",
      "_________________________________________________________________\n",
      "dense_33 (Dense)             (None, 128)               32896     \n",
      "_________________________________________________________________\n",
      "dense_34 (Dense)             (None, 64)                8256      \n",
      "_________________________________________________________________\n",
      "dense_35 (Dense)             (None, 32)                2080      \n",
      "_________________________________________________________________\n",
      "dense_36 (Dense)             (None, 10)                330       \n",
      "=================================================================\n",
      "Total params: 1,192,250\n",
      "Trainable params: 1,192,250\n",
      "Non-trainable params: 0\n",
      "_________________________________________________________________\n"
     ]
    }
   ],
   "source": [
    "network6=models.Sequential()\n",
    "network6.add(layers.Dense(784,activation='relu',input_shape=(28*28,)))\n",
    "network6.add(layers.Dense(512, activation = 'relu'))\n",
    "network6.add(layers.Dense(256, activation = 'relu'))\n",
    "network6.add(layers.Dense(128, activation = 'relu'))\n",
    "network6.add(layers.Dense(64, activation = 'relu'))\n",
    "network6.add(layers.Dense(32, activation = 'relu'))\n",
    "network6.add(layers.Dense(10,activation='softmax'))\n",
    "network6.compile(optimizer='SGD',loss='mean_squared_error',metrics=['accuracy'])\n",
    "network6.summary()\n"
   ]
  },
  {
   "cell_type": "code",
   "execution_count": 34,
   "metadata": {},
   "outputs": [
    {
     "name": "stdout",
     "output_type": "stream",
     "text": [
      "Train on 60000 samples, validate on 10000 samples\n",
      "Epoch 1/10\n",
      "60000/60000 [==============================] - 50s - loss: 0.0897 - acc: 0.1420 - val_loss: 0.0892 - val_acc: 0.1837\n",
      "Epoch 2/10\n",
      "60000/60000 [==============================] - 49s - loss: 0.0887 - acc: 0.2326 - val_loss: 0.0880 - val_acc: 0.3005\n",
      "Epoch 3/10\n",
      "60000/60000 [==============================] - 50s - loss: 0.0870 - acc: 0.3649 - val_loss: 0.0855 - val_acc: 0.4475\n",
      "Epoch 4/10\n",
      "60000/60000 [==============================] - 49s - loss: 0.0825 - acc: 0.4747 - val_loss: 0.0774 - val_acc: 0.4788\n",
      "Epoch 5/10\n",
      "60000/60000 [==============================] - 51s - loss: 0.0708 - acc: 0.5098 - val_loss: 0.0636 - val_acc: 0.5641\n",
      "Epoch 6/10\n",
      "60000/60000 [==============================] - 50s - loss: 0.0570 - acc: 0.6067 - val_loss: 0.0489 - val_acc: 0.6575\n",
      "Epoch 7/10\n",
      "60000/60000 [==============================] - 49s - loss: 0.0423 - acc: 0.7369 - val_loss: 0.0346 - val_acc: 0.8002\n",
      "Epoch 8/10\n",
      "60000/60000 [==============================] - 49s - loss: 0.0294 - acc: 0.8303 - val_loss: 0.0247 - val_acc: 0.8531\n",
      "Epoch 9/10\n",
      "60000/60000 [==============================] - 47s - loss: 0.0228 - acc: 0.8612 - val_loss: 0.0201 - val_acc: 0.8766\n",
      "Epoch 10/10\n",
      "60000/60000 [==============================] - 49s - loss: 0.0195 - acc: 0.8782 - val_loss: 0.0178 - val_acc: 0.8858\n"
     ]
    }
   ],
   "source": [
    "csv_logger6 = CSVLogger('training6.csv')\n",
    "h6=network6.fit(train_images,train_labels, verbose = True, validation_data=(test_images,test_labels),epochs=10,batch_size=32, callbacks=[csv_logger6])\n"
   ]
  },
  {
   "cell_type": "code",
   "execution_count": 35,
   "metadata": {},
   "outputs": [],
   "source": [
    "no_layer = pd.read_csv('training1.csv')\n",
    "one_layer = pd.read_csv('training2.csv')\n",
    "two_layer = pd.read_csv('training3.csv')\n",
    "three_layer = pd.read_csv('training4.csv')\n",
    "four_layer = pd.read_csv('training5.csv')\n",
    "five_layer = pd.read_csv('training6.csv')"
   ]
  },
  {
   "cell_type": "code",
   "execution_count": 41,
   "metadata": {},
   "outputs": [
    {
     "data": {
      "image/png": "[encoded data removed]",
      "text/plain": [
       "<matplotlib.figure.Figure at 0x1dcd6cb34a8>"
      ]
     },
     "metadata": {},
     "output_type": "display_data"
    }
   ],
   "source": [
    "pylab.plot(no_layer['epoch'],no_layer['val_acc'],label = 'No_hidden')\n",
    "pylab.plot(one_layer['epoch'], one_layer['val_acc'],label = 'One_hidden')\n",
    "pylab.plot(two_layer['epoch'], two_layer['val_acc'],label = 'Two_hidden')\n",
    "pylab.plot(three_layer['epoch'],three_layer['val_acc'],label = 'Three_hidden')\n",
    "pylab.plot(four_layer['epoch'], four_layer['val_acc'],label = 'four_hidden')\n",
    "pylab.plot(five_layer['epoch'],five_layer['val_acc'],label = 'five_hidden')\n",
    "figure = pylab.legend(loc = 'upper right')\n",
    "pylab.xlabel(\"No of Epochs\")\n",
    "pylab.ylabel(\"Validation Accuracy\")\n",
    "plt.title('Accuracy_with_different_number_of_hidden_layers')\n",
    "pylab.savefig(\"Accuracy_with_different_number_of_hidden_layers\")\n",
    "pylab.show()"
   ]
  },
  {
   "cell_type": "raw",
   "metadata": {},
   "source": [
    "#One hidden layer is good enough, but since it is computationally better we will use the same model and change other parameters and see the results."
   ]
  },
  {
   "cell_type": "code",
   "execution_count": 42,
   "metadata": {},
   "outputs": [
    {
     "name": "stdout",
     "output_type": "stream",
     "text": [
      "_________________________________________________________________\n",
      "Layer (type)                 Output Shape              Param #   \n",
      "=================================================================\n",
      "dense_37 (Dense)             (None, 784)               615440    \n",
      "_________________________________________________________________\n",
      "dense_38 (Dense)             (None, 512)               401920    \n",
      "_________________________________________________________________\n",
      "dense_39 (Dense)             (None, 10)                5130      \n",
      "=================================================================\n",
      "Total params: 1,022,490\n",
      "Trainable params: 1,022,490\n",
      "Non-trainable params: 0\n",
      "_________________________________________________________________\n"
     ]
    }
   ],
   "source": [
    "network7=models.Sequential()\n",
    "network7.add(layers.Dense(784,activation='relu',input_shape=(28*28,)))\n",
    "network7.add(layers.Dense(512, activation = 'relu'))\n",
    "network7.add(layers.Dense(10,activation='softmax'))\n",
    "network7.compile(optimizer='SGD',loss='mean_squared_error',metrics=['accuracy'])\n",
    "network7.summary()\n"
   ]
  },
  {
   "cell_type": "code",
   "execution_count": 43,
   "metadata": {},
   "outputs": [
    {
     "name": "stdout",
     "output_type": "stream",
     "text": [
      "Train on 60000 samples, validate on 10000 samples\n",
      "Epoch 1/10\n",
      "60000/60000 [==============================] - 135s - loss: 0.0861 - acc: 0.3596 - val_loss: 0.0802 - val_acc: 0.5374\n",
      "Epoch 2/10\n",
      "60000/60000 [==============================] - 135s - loss: 0.0715 - acc: 0.6121 - val_loss: 0.0614 - val_acc: 0.6889\n",
      "Epoch 3/10\n",
      "60000/60000 [==============================] - 133s - loss: 0.0526 - acc: 0.7323 - val_loss: 0.0438 - val_acc: 0.7777\n",
      "Epoch 4/10\n",
      "60000/60000 [==============================] - 131s - loss: 0.0388 - acc: 0.7987 - val_loss: 0.0329 - val_acc: 0.8359\n",
      "Epoch 5/10\n",
      "60000/60000 [==============================] - 125s - loss: 0.0305 - acc: 0.8420 - val_loss: 0.0266 - val_acc: 0.8615\n",
      "Epoch 6/10\n",
      "60000/60000 [==============================] - 135s - loss: 0.0258 - acc: 0.8603 - val_loss: 0.0230 - val_acc: 0.8758\n",
      "Epoch 7/10\n",
      "60000/60000 [==============================] - 133s - loss: 0.0228 - acc: 0.8717 - val_loss: 0.0206 - val_acc: 0.8857oss\n",
      "Epoch 8/10\n",
      "60000/60000 [==============================] - 158s - loss: 0.0209 - acc: 0.8808 - val_loss: 0.0190 - val_acc: 0.8914\n",
      "Epoch 9/10\n",
      "60000/60000 [==============================] - 134s - loss: 0.0194 - acc: 0.8867 - val_loss: 0.0179 - val_acc: 0.8970\n",
      "Epoch 10/10\n",
      "60000/60000 [==============================] - 132s - loss: 0.0183 - acc: 0.8917 - val_loss: 0.0170 - val_acc: 0.9019\n"
     ]
    }
   ],
   "source": [
    "\n",
    "csv_logger7 = CSVLogger('training7.csv')\n",
    "h7=network7.fit(train_images,train_labels, verbose = True, validation_data=(test_images,test_labels),epochs=10,batch_size=32, callbacks=[csv_logger7])"
   ]
  },
  {
   "cell_type": "code",
   "execution_count": 29,
   "metadata": {},
   "outputs": [
    {
     "name": "stdout",
     "output_type": "stream",
     "text": [
      "_________________________________________________________________\n",
      "Layer (type)                 Output Shape              Param #   \n",
      "=================================================================\n",
      "dense_22 (Dense)             (None, 784)               615440    \n",
      "_________________________________________________________________\n",
      "dense_23 (Dense)             (None, 512)               401920    \n",
      "_________________________________________________________________\n",
      "dense_24 (Dense)             (None, 10)                5130      \n",
      "=================================================================\n",
      "Total params: 1,022,490\n",
      "Trainable params: 1,022,490\n",
      "Non-trainable params: 0\n",
      "_________________________________________________________________\n"
     ]
    }
   ],
   "source": [
    "network8=models.Sequential()\n",
    "network8.add(layers.Dense(784,activation='sigmoid',input_shape=(28*28,)))\n",
    "network8.add(layers.Dense(512, activation = 'sigmoid'))\n",
    "network8.add(layers.Dense(10,activation='softmax'))\n",
    "network8.compile(optimizer='SGD',loss='mean_squared_error',metrics=['accuracy'])\n",
    "network8.summary()\n"
   ]
  },
  {
   "cell_type": "code",
   "execution_count": 30,
   "metadata": {},
   "outputs": [
    {
     "name": "stdout",
     "output_type": "stream",
     "text": [
      "Train on 60000 samples, validate on 10000 samples\n",
      "Epoch 1/10\n",
      "60000/60000 [==============================] - 45s - loss: 0.0904 - acc: 0.1215 - val_loss: 0.0899 - val_acc: 0.1440\n",
      "Epoch 2/10\n",
      "60000/60000 [==============================] - 42s - loss: 0.0898 - acc: 0.1536 - val_loss: 0.0897 - val_acc: 0.1268\n",
      "Epoch 3/10\n",
      "60000/60000 [==============================] - 42s - loss: 0.0897 - acc: 0.1617 - val_loss: 0.0896 - val_acc: 0.1560\n",
      "Epoch 4/10\n",
      "60000/60000 [==============================] - 41s - loss: 0.0895 - acc: 0.1772 - val_loss: 0.0894 - val_acc: 0.2471\n",
      "Epoch 5/10\n",
      "60000/60000 [==============================] - 42s - loss: 0.0894 - acc: 0.2108 - val_loss: 0.0893 - val_acc: 0.2235\n",
      "Epoch 6/10\n",
      "60000/60000 [==============================] - 42s - loss: 0.0892 - acc: 0.2165 - val_loss: 0.0891 - val_acc: 0.2230\n",
      "Epoch 7/10\n",
      "60000/60000 [==============================] - 41s - loss: 0.0890 - acc: 0.2297 - val_loss: 0.0889 - val_acc: 0.2217\n",
      "Epoch 8/10\n",
      "60000/60000 [==============================] - 42s - loss: 0.0889 - acc: 0.2420 - val_loss: 0.0887 - val_acc: 0.2146\n",
      "Epoch 9/10\n",
      "60000/60000 [==============================] - 43s - loss: 0.0887 - acc: 0.2426 - val_loss: 0.0886 - val_acc: 0.2299\n",
      "Epoch 10/10\n",
      "60000/60000 [==============================] - 42s - loss: 0.0885 - acc: 0.2647 - val_loss: 0.0884 - val_acc: 0.2121\n"
     ]
    }
   ],
   "source": [
    "csv_logger8 = CSVLogger('training8.csv')\n",
    "h8=network8.fit(train_images,train_labels, verbose = True, validation_data=(test_images,test_labels),epochs=10,batch_size=32, callbacks=[csv_logger8])\n"
   ]
  },
  {
   "cell_type": "code",
   "execution_count": 48,
   "metadata": {},
   "outputs": [
    {
     "name": "stdout",
     "output_type": "stream",
     "text": [
      "_________________________________________________________________\n",
      "Layer (type)                 Output Shape              Param #   \n",
      "=================================================================\n",
      "dense_47 (Dense)             (None, 784)               615440    \n",
      "_________________________________________________________________\n",
      "dense_48 (Dense)             (None, 512)               401920    \n",
      "_________________________________________________________________\n",
      "dense_49 (Dense)             (None, 10)                5130      \n",
      "=================================================================\n",
      "Total params: 1,022,490\n",
      "Trainable params: 1,022,490\n",
      "Non-trainable params: 0\n",
      "_________________________________________________________________\n"
     ]
    }
   ],
   "source": [
    "network9=models.Sequential()\n",
    "network9.add(layers.Dense(784,activation='tanh',input_shape=(28*28,)))\n",
    "network9.add(layers.Dense(512, activation = 'tanh'))\n",
    "network9.add(layers.Dense(10,activation='softmax'))\n",
    "network9.compile(optimizer='SGD',loss='mean_squared_error',metrics=['accuracy'])\n",
    "network9.summary()\n"
   ]
  },
  {
   "cell_type": "code",
   "execution_count": 49,
   "metadata": {},
   "outputs": [
    {
     "name": "stdout",
     "output_type": "stream",
     "text": [
      "Train on 60000 samples, validate on 10000 samples\n",
      "Epoch 1/10\n",
      "60000/60000 [==============================] - 42s - loss: 0.0701 - acc: 0.5355 - val_loss: 0.0486 - val_acc: 0.7684\n",
      "Epoch 2/10\n",
      "60000/60000 [==============================] - 36s - loss: 0.0394 - acc: 0.8036 - val_loss: 0.0309 - val_acc: 0.8471\n",
      "Epoch 3/10\n",
      "60000/60000 [==============================] - 37s - loss: 0.0287 - acc: 0.8470 - val_loss: 0.0247 - val_acc: 0.8674\n",
      "Epoch 4/10\n",
      "60000/60000 [==============================] - 37s - loss: 0.0243 - acc: 0.8644 - val_loss: 0.0216 - val_acc: 0.8803\n",
      "Epoch 5/10\n",
      "60000/60000 [==============================] - 38s - loss: 0.0218 - acc: 0.8743 - val_loss: 0.0197 - val_acc: 0.8874\n",
      "Epoch 6/10\n",
      "60000/60000 [==============================] - 39s - loss: 0.0201 - acc: 0.8810 - val_loss: 0.0184 - val_acc: 0.8923\n",
      "Epoch 7/10\n",
      "60000/60000 [==============================] - 38s - loss: 0.0190 - acc: 0.8862 - val_loss: 0.0175 - val_acc: 0.8965\n",
      "Epoch 8/10\n",
      "60000/60000 [==============================] - 38s - loss: 0.0181 - acc: 0.8903 - val_loss: 0.0168 - val_acc: 0.9000\n",
      "Epoch 9/10\n",
      "60000/60000 [==============================] - 42s - loss: 0.0174 - acc: 0.8932 - val_loss: 0.0162 - val_acc: 0.9025\n",
      "Epoch 10/10\n",
      "60000/60000 [==============================] - 37s - loss: 0.0168 - acc: 0.8967 - val_loss: 0.0157 - val_acc: 0.9040\n"
     ]
    }
   ],
   "source": [
    "csv_logger9 = CSVLogger('training9.csv')\n",
    "h9=network9.fit(train_images,train_labels, verbose = True, validation_data=(test_images,test_labels),epochs=10,batch_size=32, callbacks=[csv_logger9])\n"
   ]
  },
  {
   "cell_type": "code",
   "execution_count": 37,
   "metadata": {
    "collapsed": true
   },
   "outputs": [],
   "source": [
    "# read all csvs and compare activations\n",
    "relu_act = pd.read_csv('training7.csv')\n",
    "sigmoid_act = pd.read_csv('training8.csv')\n",
    "tanh_act = pd.read_csv('training9.csv')"
   ]
  },
  {
   "cell_type": "code",
   "execution_count": 38,
   "metadata": {},
   "outputs": [
    {
     "data": {
      "image/png": "[encoded data removed]",
      "text/plain": [
       "<matplotlib.figure.Figure at 0x1f372781240>"
      ]
     },
     "metadata": {},
     "output_type": "display_data"
    }
   ],
   "source": [
    "pylab.plot(relu_act['epoch'],relu_act['val_acc'],label = 'ReLU')\n",
    "pylab.plot(sigmoid_act['epoch'], sigmoid_act['val_acc'],label = 'sigmoid')\n",
    "pylab.plot(tanh_act['epoch'], tanh_act['val_acc'],label = 'tanh')\n",
    "figure = pylab.legend(loc = 'upper right')\n",
    "pylab.xlabel(\"No of Epochs\")\n",
    "pylab.ylabel(\"Validation Accuracy\")\n",
    "plt.title('Accuracy_with_different_activations')\n",
    "pylab.savefig(\"Accuracy_with_different_activations\")\n",
    "pylab.show()"
   ]
  },
  {
   "cell_type": "code",
   "execution_count": 50,
   "metadata": {},
   "outputs": [
    {
     "name": "stdout",
     "output_type": "stream",
     "text": [
      "_________________________________________________________________\n",
      "Layer (type)                 Output Shape              Param #   \n",
      "=================================================================\n",
      "dense_50 (Dense)             (None, 784)               615440    \n",
      "_________________________________________________________________\n",
      "dense_51 (Dense)             (None, 512)               401920    \n",
      "_________________________________________________________________\n",
      "dense_52 (Dense)             (None, 10)                5130      \n",
      "=================================================================\n",
      "Total params: 1,022,490\n",
      "Trainable params: 1,022,490\n",
      "Non-trainable params: 0\n",
      "_________________________________________________________________\n"
     ]
    }
   ],
   "source": [
    "network10=models.Sequential()\n",
    "network10.add(layers.Dense(784,activation='relu',input_shape=(28*28,)))\n",
    "network10.add(layers.Dense(512, activation = 'relu'))\n",
    "network10.add(layers.Dense(10,activation='softmax'))\n",
    "network10.compile(optimizer='SGD',loss='mean_squared_error',metrics=['accuracy'])\n",
    "network10.summary()\n"
   ]
  },
  {
   "cell_type": "code",
   "execution_count": 51,
   "metadata": {},
   "outputs": [
    {
     "name": "stdout",
     "output_type": "stream",
     "text": [
      "Train on 60000 samples, validate on 10000 samples\n",
      "Epoch 1/10\n",
      "60000/60000 [==============================] - 42s - loss: 0.0864 - acc: 0.3537 - val_loss: 0.0804 - val_acc: 0.5983\n",
      "Epoch 2/10\n",
      "60000/60000 [==============================] - 39s - loss: 0.0717 - acc: 0.6526 - val_loss: 0.0605 - val_acc: 0.7072\n",
      "Epoch 3/10\n",
      "60000/60000 [==============================] - 42s - loss: 0.0517 - acc: 0.7356 - val_loss: 0.0425 - val_acc: 0.7749\n",
      "Epoch 4/10\n",
      "60000/60000 [==============================] - 41s - loss: 0.0380 - acc: 0.8011 - val_loss: 0.0321 - val_acc: 0.8381\n",
      "Epoch 5/10\n",
      "60000/60000 [==============================] - 39s - loss: 0.0300 - acc: 0.8453 - val_loss: 0.0261 - val_acc: 0.8668\n",
      "Epoch 6/10\n",
      "60000/60000 [==============================] - 41s - loss: 0.0254 - acc: 0.8642 - val_loss: 0.0226 - val_acc: 0.8806\n",
      "Epoch 7/10\n",
      "60000/60000 [==============================] - 42s - loss: 0.0225 - acc: 0.8763 - val_loss: 0.0202 - val_acc: 0.8885\n",
      "Epoch 8/10\n",
      "60000/60000 [==============================] - 42s - loss: 0.0205 - acc: 0.8843 - val_loss: 0.0187 - val_acc: 0.8941\n",
      "Epoch 9/10\n",
      "60000/60000 [==============================] - 48s - loss: 0.0191 - acc: 0.8907 - val_loss: 0.0175 - val_acc: 0.8977\n",
      "Epoch 10/10\n",
      "60000/60000 [==============================] - 131s - loss: 0.0180 - acc: 0.8949 - val_loss: 0.0166 - val_acc: 0.9021\n"
     ]
    }
   ],
   "source": [
    "csv_logger10 = CSVLogger('training10.csv')\n",
    "h10=network10.fit(train_images,train_labels, verbose = True, validation_data=(test_images,test_labels),epochs=10,batch_size=32, callbacks=[csv_logger10])\n"
   ]
  },
  {
   "cell_type": "code",
   "execution_count": null,
   "metadata": {},
   "outputs": [
    {
     "name": "stdout",
     "output_type": "stream",
     "text": [
      "_________________________________________________________________\n",
      "Layer (type)                 Output Shape              Param #   \n",
      "=================================================================\n",
      "dense_53 (Dense)             (None, 784)               615440    \n",
      "_________________________________________________________________\n",
      "dense_54 (Dense)             (None, 512)               401920    \n",
      "_________________________________________________________________\n",
      "dense_55 (Dense)             (None, 10)                5130      \n",
      "=================================================================\n",
      "Total params: 1,022,490\n",
      "Trainable params: 1,022,490\n",
      "Non-trainable params: 0\n",
      "_________________________________________________________________\n"
     ]
    }
   ],
   "source": [
    "network11=models.Sequential()\n",
    "network11.add(layers.Dense(784,activation='relu',input_shape=(28*28,)))\n",
    "network11.add(layers.Dense(512, activation = 'relu'))\n",
    "network11.add(layers.Dense(10,activation='softmax'))\n",
    "network11.compile(optimizer='adam',loss='mean_squared_error',metrics=['accuracy'])\n",
    "network11.summary()\n"
   ]
  },
  {
   "cell_type": "code",
   "execution_count": null,
   "metadata": {},
   "outputs": [
    {
     "name": "stdout",
     "output_type": "stream",
     "text": [
      "Train on 60000 samples, validate on 10000 samples\n",
      "Epoch 1/10\n",
      "60000/60000 [==============================] - 219s - loss: 0.0096 - acc: 0.9352 - val_loss: 0.0064 - val_acc: 0.9586\n",
      "Epoch 2/10\n",
      "60000/60000 [==============================] - 220s - loss: 0.0050 - acc: 0.9685 - val_loss: 0.0056 - val_acc: 0.9629\n",
      "Epoch 3/10\n",
      "60000/60000 [==============================] - 200s - loss: 0.0041 - acc: 0.9738 - val_loss: 0.0039 - val_acc: 0.9757\n",
      "Epoch 4/10\n",
      "60000/60000 [==============================] - 201s - loss: 0.0035 - acc: 0.9789 - val_loss: 0.0050 - val_acc: 0.9694\n",
      "Epoch 5/10\n",
      "60000/60000 [==============================] - 204s - loss: 0.0030 - acc: 0.9815 - val_loss: 0.0039 - val_acc: 0.9757\n",
      "Epoch 6/10\n",
      "60000/60000 [==============================] - 203s - loss: 0.0027 - acc: 0.9837 - val_loss: 0.0042 - val_acc: 0.9752\n",
      "Epoch 7/10\n",
      "60000/60000 [==============================] - 207s - loss: 0.0030 - acc: 0.9822 - val_loss: 0.0040 - val_acc: 0.9780\n",
      "Epoch 8/10\n",
      "60000/60000 [==============================] - 200s - loss: 0.0027 - acc: 0.9842 - val_loss: 0.0041 - val_acc: 0.9765\n",
      "Epoch 9/10\n",
      "60000/60000 [==============================] - 131s - loss: 0.0025 - acc: 0.9857 - val_loss: 0.0045 - val_acc: 0.9743\n",
      "Epoch 10/10\n",
      "60000/60000 [==============================] - 68s - loss: 0.0026 - acc: 0.9851 - val_loss: 0.0040 - val_acc: 0.9781\n"
     ]
    }
   ],
   "source": [
    "csv_logger11 = CSVLogger('training11.csv')\n",
    "h11=network11.fit(train_images,train_labels, verbose = True, validation_data=(test_images,test_labels),epochs=10,batch_size=32, callbacks=[csv_logger11])\n"
   ]
  },
  {
   "cell_type": "code",
   "execution_count": null,
   "metadata": {},
   "outputs": [
    {
     "name": "stdout",
     "output_type": "stream",
     "text": [
      "_________________________________________________________________\n",
      "Layer (type)                 Output Shape              Param #   \n",
      "=================================================================\n",
      "dense_56 (Dense)             (None, 784)               615440    \n",
      "_________________________________________________________________\n",
      "dense_57 (Dense)             (None, 512)               401920    \n",
      "_________________________________________________________________\n",
      "dense_58 (Dense)             (None, 10)                5130      \n",
      "=================================================================\n",
      "Total params: 1,022,490\n",
      "Trainable params: 1,022,490\n",
      "Non-trainable params: 0\n",
      "_________________________________________________________________\n"
     ]
    }
   ],
   "source": [
    "network12=models.Sequential()\n",
    "network12.add(layers.Dense(784,activation='relu',input_shape=(28*28,)))\n",
    "network12.add(layers.Dense(512, activation = 'relu'))\n",
    "network12.add(layers.Dense(10,activation='softmax'))\n",
    "network12.compile(optimizer='adagrad',loss='mean_squared_error',metrics=['accuracy'])\n",
    "network12.summary()\n"
   ]
  },
  {
   "cell_type": "code",
   "execution_count": null,
   "metadata": {},
   "outputs": [
    {
     "name": "stdout",
     "output_type": "stream",
     "text": [
      "Train on 60000 samples, validate on 10000 samples\n",
      "Epoch 1/10\n",
      "60000/60000 [==============================] - 51s - loss: 0.0144 - acc: 0.9148 - val_loss: 0.0052 - val_acc: 0.9658\n",
      "Epoch 2/10\n",
      "60000/60000 [==============================] - 53s - loss: 0.0036 - acc: 0.9778 - val_loss: 0.0038 - val_acc: 0.9760\n",
      "Epoch 3/10\n",
      "60000/60000 [==============================] - 50s - loss: 0.0024 - acc: 0.9857 - val_loss: 0.0033 - val_acc: 0.9771\n",
      "Epoch 4/10\n",
      "60000/60000 [==============================] - 52s - loss: 0.0017 - acc: 0.9902 - val_loss: 0.0031 - val_acc: 0.9790\n",
      "Epoch 5/10\n",
      "60000/60000 [==============================] - 46s - loss: 0.0013 - acc: 0.9928 - val_loss: 0.0029 - val_acc: 0.9809\n",
      "Epoch 6/10\n",
      "60000/60000 [==============================] - 52s - loss: 9.7260e-04 - acc: 0.9950 - val_loss: 0.0028 - val_acc: 0.9810\n",
      "Epoch 7/10\n",
      "60000/60000 [==============================] - 54s - loss: 7.6982e-04 - acc: 0.9961 - val_loss: 0.0027 - val_acc: 0.9827\n",
      "Epoch 8/10\n",
      "60000/60000 [==============================] - 50s - loss: 6.2850e-04 - acc: 0.9969 - val_loss: 0.0027 - val_acc: 0.9820\n",
      "Epoch 9/10\n",
      "60000/60000 [==============================] - 49s - loss: 5.1792e-04 - acc: 0.9974 - val_loss: 0.0026 - val_acc: 0.9834\n",
      "Epoch 10/10\n",
      "60000/60000 [==============================] - 49s - loss: 4.5082e-04 - acc: 0.9977 - val_loss: 0.0026 - val_acc: 0.9834\n"
     ]
    }
   ],
   "source": [
    "csv_logger12 = CSVLogger('training12.csv')\n",
    "h12=network12.fit(train_images,train_labels, verbose = True, validation_data=(test_images,test_labels),epochs=10,batch_size=32, callbacks=[csv_logger12])\n"
   ]
  },
  {
   "cell_type": "code",
   "execution_count": 31,
   "metadata": {
    "collapsed": true
   },
   "outputs": [],
   "source": [
    "#read csvs and compare optimizers\n",
    "sgd_opt = pd.read_csv('training10.csv')\n",
    "adam_opt = pd.read_csv('training11.csv')\n",
    "adagrad_opt = pd.read_csv('training12.csv')"
   ]
  },
  {
   "cell_type": "code",
   "execution_count": 32,
   "metadata": {},
   "outputs": [
    {
     "data": {
      "image/png": "[encoded data removed]",
      "text/plain": [
       "<matplotlib.figure.Figure at 0x1f371498cc0>"
      ]
     },
     "metadata": {},
     "output_type": "display_data"
    }
   ],
   "source": [
    "pylab.plot(sgd_opt['epoch'],sgd_opt['val_acc'],label = 'SGD')\n",
    "pylab.plot(adam_opt['epoch'], adam_opt['val_acc'],label = 'adam')\n",
    "pylab.plot(adagrad_opt['epoch'], adagrad_opt['val_acc'],label = 'adagrad')\n",
    "figure = pylab.legend(loc = 'upper right')\n",
    "pylab.xlabel(\"No of Epochs\")\n",
    "pylab.ylabel(\"Validation Accuracy\")\n",
    "plt.title('Accuracy_with_different_optimizers')\n",
    "pylab.savefig(\"Accuracy_with_different_optimizers\")\n",
    "pylab.show()"
   ]
  },
  {
   "cell_type": "code",
   "execution_count": 9,
   "metadata": {},
   "outputs": [
    {
     "name": "stdout",
     "output_type": "stream",
     "text": [
      "_________________________________________________________________\n",
      "Layer (type)                 Output Shape              Param #   \n",
      "=================================================================\n",
      "dense_1 (Dense)              (None, 784)               615440    \n",
      "_________________________________________________________________\n",
      "dense_2 (Dense)              (None, 512)               401920    \n",
      "_________________________________________________________________\n",
      "dense_3 (Dense)              (None, 10)                5130      \n",
      "=================================================================\n",
      "Total params: 1,022,490\n",
      "Trainable params: 1,022,490\n",
      "Non-trainable params: 0\n",
      "_________________________________________________________________\n"
     ]
    }
   ],
   "source": [
    "network13=models.Sequential()\n",
    "network13.add(layers.Dense(784,activation='relu',input_shape=(28*28,)))\n",
    "network13.add(layers.Dense(512, activation = 'relu'))\n",
    "network13.add(layers.Dense(10,activation='softmax'))\n",
    "network13.compile(optimizer=adam1,loss='mean_squared_error',metrics=['accuracy'])\n",
    "network13.summary()\n",
    "\n"
   ]
  },
  {
   "cell_type": "code",
   "execution_count": 10,
   "metadata": {},
   "outputs": [
    {
     "name": "stdout",
     "output_type": "stream",
     "text": [
      "Train on 60000 samples, validate on 10000 samples\n",
      "Epoch 1/10\n",
      "60000/60000 [==============================] - 66s - loss: 0.0137 - acc: 0.9151 - val_loss: 0.0077 - val_acc: 0.9507\n",
      "Epoch 2/10\n",
      "60000/60000 [==============================] - 65s - loss: 0.0062 - acc: 0.9620 - val_loss: 0.0055 - val_acc: 0.9645\n",
      "Epoch 3/10\n",
      "60000/60000 [==============================] - 62s - loss: 0.0044 - acc: 0.9732 - val_loss: 0.0045 - val_acc: 0.9710\n",
      "Epoch 4/10\n",
      "60000/60000 [==============================] - 62s - loss: 0.0033 - acc: 0.9800 - val_loss: 0.0038 - val_acc: 0.9755\n",
      "Epoch 5/10\n",
      "60000/60000 [==============================] - 63s - loss: 0.0025 - acc: 0.9854 - val_loss: 0.0035 - val_acc: 0.9764\n",
      "Epoch 6/10\n",
      "60000/60000 [==============================] - 61s - loss: 0.0020 - acc: 0.9884 - val_loss: 0.0037 - val_acc: 0.9762\n",
      "Epoch 7/10\n",
      "60000/60000 [==============================] - 62s - loss: 0.0017 - acc: 0.9907 - val_loss: 0.0033 - val_acc: 0.9785\n",
      "Epoch 8/10\n",
      "60000/60000 [==============================] - 64s - loss: 0.0013 - acc: 0.9927 - val_loss: 0.0030 - val_acc: 0.9808\n",
      "Epoch 9/10\n",
      "60000/60000 [==============================] - 77s - loss: 0.0011 - acc: 0.9940 - val_loss: 0.0030 - val_acc: 0.9804\n",
      "Epoch 10/10\n",
      "60000/60000 [==============================] - 64s - loss: 9.5261e-04 - acc: 0.9949 - val_loss: 0.0030 - val_acc: 0.9803\n"
     ]
    }
   ],
   "source": [
    "\n",
    "csv_logger13 = CSVLogger('training13.csv')\n",
    "h10=network13.fit(train_images,train_labels, verbose = True, validation_data=(test_images,test_labels),epochs=10,batch_size=32, callbacks=[csv_logger13])\n"
   ]
  },
  {
   "cell_type": "code",
   "execution_count": 11,
   "metadata": {},
   "outputs": [
    {
     "name": "stdout",
     "output_type": "stream",
     "text": [
      "_________________________________________________________________\n",
      "Layer (type)                 Output Shape              Param #   \n",
      "=================================================================\n",
      "dense_4 (Dense)              (None, 784)               615440    \n",
      "_________________________________________________________________\n",
      "dense_5 (Dense)              (None, 512)               401920    \n",
      "_________________________________________________________________\n",
      "dense_6 (Dense)              (None, 10)                5130      \n",
      "=================================================================\n",
      "Total params: 1,022,490\n",
      "Trainable params: 1,022,490\n",
      "Non-trainable params: 0\n",
      "_________________________________________________________________\n"
     ]
    }
   ],
   "source": [
    "network14=models.Sequential()\n",
    "network14.add(layers.Dense(784,activation='relu',input_shape=(28*28,)))\n",
    "network14.add(layers.Dense(512, activation = 'relu'))\n",
    "network14.add(layers.Dense(10,activation='softmax'))\n",
    "network14.compile(optimizer=adam2,loss='mean_squared_error',metrics=['accuracy'])\n",
    "network14.summary()\n"
   ]
  },
  {
   "cell_type": "code",
   "execution_count": 12,
   "metadata": {},
   "outputs": [
    {
     "name": "stdout",
     "output_type": "stream",
     "text": [
      "Train on 60000 samples, validate on 10000 samples\n",
      "Epoch 1/10\n",
      "60000/60000 [==============================] - 64s - loss: 0.0093 - acc: 0.9385 - val_loss: 0.0049 - val_acc: 0.9665\n",
      "Epoch 2/10\n",
      "60000/60000 [==============================] - 63s - loss: 0.0043 - acc: 0.9726 - val_loss: 0.0049 - val_acc: 0.9689\n",
      "Epoch 3/10\n",
      "60000/60000 [==============================] - 61s - loss: 0.0032 - acc: 0.9798 - val_loss: 0.0036 - val_acc: 0.9759\n",
      "Epoch 4/10\n",
      "60000/60000 [==============================] - 60s - loss: 0.0027 - acc: 0.9830 - val_loss: 0.0040 - val_acc: 0.9738\n",
      "Epoch 5/10\n",
      "60000/60000 [==============================] - 55s - loss: 0.0022 - acc: 0.9866 - val_loss: 0.0044 - val_acc: 0.9724\n",
      "Epoch 6/10\n",
      "60000/60000 [==============================] - 61s - loss: 0.0019 - acc: 0.9881 - val_loss: 0.0033 - val_acc: 0.9788\n",
      "Epoch 7/10\n",
      "60000/60000 [==============================] - 65s - loss: 0.0017 - acc: 0.9891 - val_loss: 0.0034 - val_acc: 0.9789\n",
      "Epoch 8/10\n",
      "60000/60000 [==============================] - 64s - loss: 0.0014 - acc: 0.9909 - val_loss: 0.0037 - val_acc: 0.9777\n",
      "Epoch 9/10\n",
      "60000/60000 [==============================] - 63s - loss: 0.0015 - acc: 0.9911 - val_loss: 0.0035 - val_acc: 0.9785\n",
      "Epoch 10/10\n",
      "60000/60000 [==============================] - 63s - loss: 0.0014 - acc: 0.9915 - val_loss: 0.0034 - val_acc: 0.9785\n"
     ]
    }
   ],
   "source": [
    "csv_logger14 = CSVLogger('training14.csv')\n",
    "h14=network14.fit(train_images,train_labels, verbose = True, validation_data=(test_images,test_labels),epochs=10,batch_size=32, callbacks=[csv_logger14])\n"
   ]
  },
  {
   "cell_type": "code",
   "execution_count": 13,
   "metadata": {},
   "outputs": [
    {
     "name": "stdout",
     "output_type": "stream",
     "text": [
      "_________________________________________________________________\n",
      "Layer (type)                 Output Shape              Param #   \n",
      "=================================================================\n",
      "dense_7 (Dense)              (None, 784)               615440    \n",
      "_________________________________________________________________\n",
      "dense_8 (Dense)              (None, 512)               401920    \n",
      "_________________________________________________________________\n",
      "dense_9 (Dense)              (None, 10)                5130      \n",
      "=================================================================\n",
      "Total params: 1,022,490\n",
      "Trainable params: 1,022,490\n",
      "Non-trainable params: 0\n",
      "_________________________________________________________________\n"
     ]
    }
   ],
   "source": [
    "network15=models.Sequential()\n",
    "network15.add(layers.Dense(784,activation='relu',input_shape=(28*28,)))\n",
    "network15.add(layers.Dense(512, activation = 'relu'))\n",
    "network15.add(layers.Dense(10,activation='softmax'))\n",
    "network15.compile(optimizer=adam3,loss='mean_squared_error',metrics=['accuracy'])\n",
    "network15.summary()\n"
   ]
  },
  {
   "cell_type": "code",
   "execution_count": 14,
   "metadata": {},
   "outputs": [
    {
     "name": "stdout",
     "output_type": "stream",
     "text": [
      "Train on 60000 samples, validate on 10000 samples\n",
      "Epoch 1/10\n",
      "60000/60000 [==============================] - 68s - loss: 0.0097 - acc: 0.9354 - val_loss: 0.0087 - val_acc: 0.9452\n",
      "Epoch 2/10\n",
      "60000/60000 [==============================] - 65s - loss: 0.0050 - acc: 0.9683 - val_loss: 0.0051 - val_acc: 0.9657\n",
      "Epoch 3/10\n",
      "60000/60000 [==============================] - 65s - loss: 0.0040 - acc: 0.9747 - val_loss: 0.0053 - val_acc: 0.9674\n",
      "Epoch 4/10\n",
      "60000/60000 [==============================] - 66s - loss: 0.0034 - acc: 0.9786 - val_loss: 0.0038 - val_acc: 0.9766\n",
      "Epoch 5/10\n",
      "60000/60000 [==============================] - 64s - loss: 0.0030 - acc: 0.9816 - val_loss: 0.0046 - val_acc: 0.9711\n",
      "Epoch 6/10\n",
      "60000/60000 [==============================] - 67s - loss: 0.0029 - acc: 0.9829 - val_loss: 0.0041 - val_acc: 0.9749\n",
      "Epoch 7/10\n",
      "60000/60000 [==============================] - 67s - loss: 0.0029 - acc: 0.9832 - val_loss: 0.0045 - val_acc: 0.9741\n",
      "Epoch 8/10\n",
      "60000/60000 [==============================] - 64s - loss: 0.0028 - acc: 0.9839 - val_loss: 0.0045 - val_acc: 0.9744\n",
      "Epoch 9/10\n",
      "60000/60000 [==============================] - 62s - loss: 0.0024 - acc: 0.9865 - val_loss: 0.0045 - val_acc: 0.9739\n",
      "Epoch 10/10\n",
      "60000/60000 [==============================] - 56s - loss: 0.0026 - acc: 0.9853 - val_loss: 0.0041 - val_acc: 0.9771\n"
     ]
    }
   ],
   "source": [
    "csv_logger15 = CSVLogger('training15.csv')\n",
    "h15=network15.fit(train_images,train_labels, verbose = True, validation_data=(test_images,test_labels),epochs=10,batch_size=32, callbacks=[csv_logger15])\n"
   ]
  },
  {
   "cell_type": "code",
   "execution_count": 15,
   "metadata": {},
   "outputs": [
    {
     "name": "stdout",
     "output_type": "stream",
     "text": [
      "_________________________________________________________________\n",
      "Layer (type)                 Output Shape              Param #   \n",
      "=================================================================\n",
      "dense_10 (Dense)             (None, 784)               615440    \n",
      "_________________________________________________________________\n",
      "dense_11 (Dense)             (None, 512)               401920    \n",
      "_________________________________________________________________\n",
      "dense_12 (Dense)             (None, 10)                5130      \n",
      "=================================================================\n",
      "Total params: 1,022,490\n",
      "Trainable params: 1,022,490\n",
      "Non-trainable params: 0\n",
      "_________________________________________________________________\n"
     ]
    }
   ],
   "source": [
    "network16=models.Sequential()\n",
    "network16.add(layers.Dense(784,activation='relu',input_shape=(28*28,)))\n",
    "network16.add(layers.Dense(512, activation = 'relu'))\n",
    "network16.add(layers.Dense(10,activation='softmax'))\n",
    "network16.compile(optimizer=adam4,loss='mean_squared_error',metrics=['accuracy'])\n",
    "network16.summary()\n"
   ]
  },
  {
   "cell_type": "code",
   "execution_count": 16,
   "metadata": {},
   "outputs": [
    {
     "name": "stdout",
     "output_type": "stream",
     "text": [
      "Train on 60000 samples, validate on 10000 samples\n",
      "Epoch 1/10\n",
      "60000/60000 [==============================] - 69s - loss: 0.1773 - acc: 0.1129 - val_loss: 0.1773 - val_acc: 0.1135\n",
      "Epoch 2/10\n",
      "60000/60000 [==============================] - 64s - loss: 0.1775 - acc: 0.1124 - val_loss: 0.1773 - val_acc: 0.1135\n",
      "Epoch 3/10\n",
      "60000/60000 [==============================] - 72s - loss: 0.1775 - acc: 0.1124 - val_loss: 0.1773 - val_acc: 0.1135\n",
      "Epoch 4/10\n",
      "60000/60000 [==============================] - 67s - loss: 0.1775 - acc: 0.1124 - val_loss: 0.1773 - val_acc: 0.1135ETA: 1s - loss: 0\n",
      "Epoch 5/10\n",
      "60000/60000 [==============================] - 64s - loss: 0.1775 - acc: 0.1124 - val_loss: 0.1773 - val_acc: 0.1135\n",
      "Epoch 6/10\n",
      "60000/60000 [==============================] - 66s - loss: 0.1775 - acc: 0.1124 - val_loss: 0.1773 - val_acc: 0.1135\n",
      "Epoch 7/10\n",
      "60000/60000 [==============================] - 67s - loss: 0.1775 - acc: 0.1124 - val_loss: 0.1773 - val_acc: 0.1135\n",
      "Epoch 8/10\n",
      "60000/60000 [==============================] - 65s - loss: 0.1775 - acc: 0.1124 - val_loss: 0.1773 - val_acc: 0.1135\n",
      "Epoch 9/10\n",
      "60000/60000 [==============================] - 64s - loss: 0.1775 - acc: 0.1124 - val_loss: 0.1773 - val_acc: 0.1135\n",
      "Epoch 10/10\n",
      "60000/60000 [==============================] - 67s - loss: 0.1775 - acc: 0.1124 - val_loss: 0.1773 - val_acc: 0.1135\n"
     ]
    }
   ],
   "source": [
    "csv_logger16 = CSVLogger('training16.csv')\n",
    "h16=network16.fit(train_images,train_labels, verbose = True, validation_data=(test_images,test_labels),epochs=10,batch_size=32, callbacks=[csv_logger16])\n",
    "\n",
    "\n"
   ]
  },
  {
   "cell_type": "code",
   "execution_count": 35,
   "metadata": {
    "collapsed": true
   },
   "outputs": [],
   "source": [
    "#read csv's and compare learning rates\n",
    "adam1_lr = pd.read_csv('training13.csv')\n",
    "adam2_lr = pd.read_csv('training14.csv')\n",
    "adam3_lr = pd.read_csv('training15.csv')\n",
    "adam4_lr = pd.read_csv('training16.csv')"
   ]
  },
  {
   "cell_type": "code",
   "execution_count": 36,
   "metadata": {},
   "outputs": [
    {
     "data": {
      "image/png": "[encoded data removed]",
      "text/plain": [
       "<matplotlib.figure.Figure at 0x1f371f0ef98>"
      ]
     },
     "metadata": {},
     "output_type": "display_data"
    }
   ],
   "source": [
    "pylab.plot(adam1_lr['epoch'],adam1_lr['val_acc'],label = '0.0001')\n",
    "pylab.plot(adam2_lr['epoch'], adam2_lr['val_acc'],label = '0.005')\n",
    "pylab.plot(adam3_lr['epoch'], adam3_lr['val_acc'],label = '0.001')\n",
    "pylab.plot(adam4_lr['epoch'], adam4_lr['val_acc'],label = '0.005')\n",
    "\n",
    "figure = pylab.legend(loc = 'upper right')\n",
    "pylab.xlabel(\"No of Epochs\")\n",
    "pylab.ylabel(\"Validation Accuracy\")\n",
    "plt.title('Accuracy_with_different_learning_rates')\n",
    "pylab.savefig(\"Accuracy_with_different_learning_rates\")\n",
    "pylab.show()\n"
   ]
  },
  {
   "cell_type": "code",
   "execution_count": 19,
   "metadata": {},
   "outputs": [
    {
     "name": "stdout",
     "output_type": "stream",
     "text": [
      "_________________________________________________________________\n",
      "Layer (type)                 Output Shape              Param #   \n",
      "=================================================================\n",
      "dense_13 (Dense)             (None, 784)               615440    \n",
      "_________________________________________________________________\n",
      "dense_14 (Dense)             (None, 512)               401920    \n",
      "_________________________________________________________________\n",
      "dense_15 (Dense)             (None, 10)                5130      \n",
      "=================================================================\n",
      "Total params: 1,022,490\n",
      "Trainable params: 1,022,490\n",
      "Non-trainable params: 0\n",
      "_________________________________________________________________\n"
     ]
    }
   ],
   "source": [
    "network17=models.Sequential()\n",
    "network17.add(layers.Dense(784,activation='relu',input_shape=(28*28,)))\n",
    "network17.add(layers.Dense(512, activation = 'relu'))\n",
    "network17.add(layers.Dense(10,activation='softmax'))\n",
    "network17.compile(optimizer='adam',loss='mean_squared_error',metrics=['accuracy'])\n",
    "network17.summary()\n"
   ]
  },
  {
   "cell_type": "code",
   "execution_count": 20,
   "metadata": {},
   "outputs": [
    {
     "name": "stdout",
     "output_type": "stream",
     "text": [
      "Train on 60000 samples, validate on 10000 samples\n",
      "Epoch 1/10\n",
      "60000/60000 [==============================] - 63s - loss: 0.0097 - acc: 0.9355 - val_loss: 0.0058 - val_acc: 0.9624\n",
      "Epoch 2/10\n",
      "60000/60000 [==============================] - 66s - loss: 0.0051 - acc: 0.9673 - val_loss: 0.0042 - val_acc: 0.9718\n",
      "Epoch 3/10\n",
      "60000/60000 [==============================] - 66s - loss: 0.0040 - acc: 0.9750 - val_loss: 0.0045 - val_acc: 0.9713\n",
      "Epoch 4/10\n",
      "60000/60000 [==============================] - 64s - loss: 0.0036 - acc: 0.9775 - val_loss: 0.0043 - val_acc: 0.9728.9\n",
      "Epoch 5/10\n",
      "60000/60000 [==============================] - 112s - loss: 0.0029 - acc: 0.9817 - val_loss: 0.0038 - val_acc: 0.9760\n",
      "Epoch 6/10\n",
      "60000/60000 [==============================] - 137s - loss: 0.0026 - acc: 0.9837 - val_loss: 0.0039 - val_acc: 0.9769\n",
      "Epoch 7/10\n",
      "60000/60000 [==============================] - 134s - loss: 0.0025 - acc: 0.9851 - val_loss: 0.0040 - val_acc: 0.9765 1s - lo\n",
      "Epoch 8/10\n",
      "60000/60000 [==============================] - 134s - loss: 0.0028 - acc: 0.9841 - val_loss: 0.0036 - val_acc: 0.9789\n",
      "Epoch 9/10\n",
      "60000/60000 [==============================] - 132s - loss: 0.0025 - acc: 0.9853 - val_loss: 0.0049 - val_acc: 0.9721\n",
      "Epoch 10/10\n",
      "60000/60000 [==============================] - 133s - loss: 0.0024 - acc: 0.9861 - val_loss: 0.0048 - val_acc: 0.9735\n"
     ]
    }
   ],
   "source": [
    "csv_logger17 = CSVLogger('training17.csv')\n",
    "h17=network17.fit(train_images,train_labels, verbose = True, validation_data=(test_images,test_labels),epochs=10,batch_size=32, callbacks=[csv_logger17])\n"
   ]
  },
  {
   "cell_type": "code",
   "execution_count": 22,
   "metadata": {},
   "outputs": [
    {
     "name": "stdout",
     "output_type": "stream",
     "text": [
      "_________________________________________________________________\n",
      "Layer (type)                 Output Shape              Param #   \n",
      "=================================================================\n",
      "dense_16 (Dense)             (None, 784)               615440    \n",
      "_________________________________________________________________\n",
      "dense_17 (Dense)             (None, 512)               401920    \n",
      "_________________________________________________________________\n",
      "dense_18 (Dense)             (None, 10)                5130      \n",
      "=================================================================\n",
      "Total params: 1,022,490\n",
      "Trainable params: 1,022,490\n",
      "Non-trainable params: 0\n",
      "_________________________________________________________________\n"
     ]
    }
   ],
   "source": [
    "network18=models.Sequential()\n",
    "network18.add(layers.Dense(784,activation='relu',input_shape=(28*28,)))\n",
    "network18.add(layers.Dense(512, activation = 'relu'))\n",
    "network18.add(layers.Dense(10,activation='softmax'))\n",
    "network18.compile(optimizer='adam',loss='categorical_crossentropy',metrics=['accuracy'])\n",
    "network18.summary()\n"
   ]
  },
  {
   "cell_type": "code",
   "execution_count": 23,
   "metadata": {},
   "outputs": [
    {
     "name": "stdout",
     "output_type": "stream",
     "text": [
      "Train on 60000 samples, validate on 10000 samples\n",
      "Epoch 1/10\n",
      "60000/60000 [==============================] - 66s - loss: 0.1782 - acc: 0.9448 - val_loss: 0.0959 - val_acc: 0.9716\n",
      "Epoch 2/10\n",
      "60000/60000 [==============================] - 81s - loss: 0.0780 - acc: 0.9765 - val_loss: 0.0728 - val_acc: 0.9776\n",
      "Epoch 3/10\n",
      "60000/60000 [==============================] - 86s - loss: 0.0571 - acc: 0.9814 - val_loss: 0.0796 - val_acc: 0.9764\n",
      "Epoch 4/10\n",
      "60000/60000 [==============================] - 75s - loss: 0.0416 - acc: 0.9871 - val_loss: 0.0853 - val_acc: 0.9766\n",
      "Epoch 5/10\n",
      "60000/60000 [==============================] - 123s - loss: 0.0344 - acc: 0.9894 - val_loss: 0.0788 - val_acc: 0.9810\n",
      "Epoch 6/10\n",
      "60000/60000 [==============================] - 156s - loss: 0.0285 - acc: 0.9907 - val_loss: 0.0876 - val_acc: 0.9789\n",
      "Epoch 7/10\n",
      "60000/60000 [==============================] - 155s - loss: 0.0275 - acc: 0.9916 - val_loss: 0.0850 - val_acc: 0.9810\n",
      "Epoch 8/10\n",
      "60000/60000 [==============================] - 154s - loss: 0.0233 - acc: 0.9935 - val_loss: 0.0888 - val_acc: 0.9809\n",
      "Epoch 9/10\n",
      "60000/60000 [==============================] - 155s - loss: 0.0204 - acc: 0.9941 - val_loss: 0.1027 - val_acc: 0.9778\n",
      "Epoch 10/10\n",
      "60000/60000 [==============================] - 149s - loss: 0.0184 - acc: 0.9942 - val_loss: 0.1058 - val_acc: 0.9800\n"
     ]
    }
   ],
   "source": [
    "csv_logger18 = CSVLogger('training18.csv')\n",
    "h18=network18.fit(train_images,train_labels, verbose = True, validation_data=(test_images,test_labels),epochs=10,batch_size=32, callbacks=[csv_logger18])\n",
    "\n"
   ]
  },
  {
   "cell_type": "code",
   "execution_count": 24,
   "metadata": {},
   "outputs": [
    {
     "name": "stdout",
     "output_type": "stream",
     "text": [
      "_________________________________________________________________\n",
      "Layer (type)                 Output Shape              Param #   \n",
      "=================================================================\n",
      "dense_19 (Dense)             (None, 784)               615440    \n",
      "_________________________________________________________________\n",
      "dense_20 (Dense)             (None, 512)               401920    \n",
      "_________________________________________________________________\n",
      "dense_21 (Dense)             (None, 10)                5130      \n",
      "=================================================================\n",
      "Total params: 1,022,490\n",
      "Trainable params: 1,022,490\n",
      "Non-trainable params: 0\n",
      "_________________________________________________________________\n"
     ]
    }
   ],
   "source": [
    "network19=models.Sequential()\n",
    "network19.add(layers.Dense(784,activation='relu',input_shape=(28*28,)))\n",
    "network19.add(layers.Dense(512, activation = 'relu'))\n",
    "network19.add(layers.Dense(10,activation='softmax'))\n",
    "network19.compile(optimizer='adam',loss='categorical_hinge',metrics=['accuracy'])\n",
    "network19.summary()\n"
   ]
  },
  {
   "cell_type": "code",
   "execution_count": 25,
   "metadata": {},
   "outputs": [
    {
     "name": "stdout",
     "output_type": "stream",
     "text": [
      "Train on 60000 samples, validate on 10000 samples\n",
      "Epoch 1/10\n",
      "60000/60000 [==============================] - 76s - loss: 0.1665 - acc: 0.9174 - val_loss: 0.1112 - val_acc: 0.9452\n",
      "Epoch 2/10\n",
      "60000/60000 [==============================] - 83s - loss: 0.1026 - acc: 0.9486 - val_loss: 0.0927 - val_acc: 0.9536\n",
      "Epoch 3/10\n",
      "60000/60000 [==============================] - 77s - loss: 0.0876 - acc: 0.9561 - val_loss: 0.0939 - val_acc: 0.9527\n",
      "Epoch 4/10\n",
      "60000/60000 [==============================] - 71s - loss: 0.0842 - acc: 0.9578 - val_loss: 0.0961 - val_acc: 0.9518\n",
      "Epoch 5/10\n",
      "60000/60000 [==============================] - 66s - loss: 0.0834 - acc: 0.9582 - val_loss: 0.0871 - val_acc: 0.9564\n",
      "Epoch 6/10\n",
      "60000/60000 [==============================] - 64s - loss: 0.0823 - acc: 0.9588 - val_loss: 0.0824 - val_acc: 0.95880.0819  - ETA: 1s -\n",
      "Epoch 7/10\n",
      "60000/60000 [==============================] - 62s - loss: 0.0833 - acc: 0.9581 - val_loss: 0.0871 - val_acc: 0.9564\n",
      "Epoch 8/10\n",
      "60000/60000 [==============================] - 63s - loss: 0.0811 - acc: 0.9593 - val_loss: 0.0683 - val_acc: 0.9656\n",
      "Epoch 9/10\n",
      "60000/60000 [==============================] - 62s - loss: 0.0823 - acc: 0.9588 - val_loss: 0.0831 - val_acc: 0.9582\n",
      "Epoch 10/10\n",
      "60000/60000 [==============================] - 60s - loss: 0.0830 - acc: 0.9584 - val_loss: 0.1021 - val_acc: 0.9490\n"
     ]
    }
   ],
   "source": [
    "csv_logger19 = CSVLogger('training19.csv')\n",
    "h19=network19.fit(train_images,train_labels, verbose = True, validation_data=(test_images,test_labels),epochs=10,batch_size=32, callbacks=[csv_logger19])\n",
    "\n"
   ]
  },
  {
   "cell_type": "code",
   "execution_count": 39,
   "metadata": {
    "collapsed": true
   },
   "outputs": [],
   "source": [
    "#read csv and graph for loss\n",
    "mse = pd.read_csv('training17.csv')\n",
    "cat_cr = pd.read_csv('training18.csv')\n",
    "cat_hinge = pd.read_csv('training19.csv')\n"
   ]
  },
  {
   "cell_type": "code",
   "execution_count": 40,
   "metadata": {},
   "outputs": [
    {
     "data": {
      "image/png": "[encoded data removed]",
      "text/plain": [
       "<matplotlib.figure.Figure at 0x1f3727b0588>"
      ]
     },
     "metadata": {},
     "output_type": "display_data"
    }
   ],
   "source": [
    "pylab.plot(mse['epoch'],mse['val_acc'],label = 'MSE')\n",
    "pylab.plot(cat_cr['epoch'], cat_cr['val_acc'],label = 'categorical_cross_entropy')\n",
    "pylab.plot(cat_hinge['epoch'], cat_hinge['val_acc'],label = 'categorical_hinge')\n",
    "figure = pylab.legend(loc = 'upper right')\n",
    "pylab.xlabel(\"No of Epochs\")\n",
    "pylab.ylabel(\"Validation Accuracy\")\n",
    "plt.title('Accuracy_with_different_losses')\n",
    "pylab.savefig(\"Accuracy_with_different_losses\")\n",
    "pylab.show()\n"
   ]
  },
  {
   "cell_type": "code",
   "execution_count": 41,
   "metadata": {},
   "outputs": [
    {
     "name": "stdout",
     "output_type": "stream",
     "text": [
      "_________________________________________________________________\n",
      "Layer (type)                 Output Shape              Param #   \n",
      "=================================================================\n",
      "dense_25 (Dense)             (None, 784)               615440    \n",
      "_________________________________________________________________\n",
      "dense_26 (Dense)             (None, 128)               100480    \n",
      "_________________________________________________________________\n",
      "dense_27 (Dense)             (None, 10)                1290      \n",
      "=================================================================\n",
      "Total params: 717,210\n",
      "Trainable params: 717,210\n",
      "Non-trainable params: 0\n",
      "_________________________________________________________________\n"
     ]
    }
   ],
   "source": [
    "network20=models.Sequential()\n",
    "network20.add(layers.Dense(784,activation='relu',input_shape=(28*28,)))\n",
    "network20.add(layers.Dense(128, activation = 'relu'))\n",
    "network20.add(layers.Dense(10,activation='softmax'))\n",
    "network20.compile(optimizer='adam',loss='categorical_crossentropy',metrics=['accuracy'])\n",
    "network20.summary()\n"
   ]
  },
  {
   "cell_type": "code",
   "execution_count": 42,
   "metadata": {},
   "outputs": [
    {
     "name": "stdout",
     "output_type": "stream",
     "text": [
      "Train on 60000 samples, validate on 10000 samples\n",
      "Epoch 1/10\n",
      "60000/60000 [==============================] - 45s - loss: 0.1833 - acc: 0.9447 - val_loss: 0.1117 - val_acc: 0.9644\n",
      "Epoch 2/10\n",
      "60000/60000 [==============================] - 42s - loss: 0.0777 - acc: 0.9760 - val_loss: 0.0740 - val_acc: 0.9769\n",
      "Epoch 3/10\n",
      "60000/60000 [==============================] - 44s - loss: 0.0543 - acc: 0.9829 - val_loss: 0.0681 - val_acc: 0.9802\n",
      "Epoch 4/10\n",
      "60000/60000 [==============================] - 44s - loss: 0.0389 - acc: 0.9875 - val_loss: 0.0634 - val_acc: 0.9817\n",
      "Epoch 5/10\n",
      "60000/60000 [==============================] - 43s - loss: 0.0322 - acc: 0.9894 - val_loss: 0.0838 - val_acc: 0.9780\n",
      "Epoch 6/10\n",
      "60000/60000 [==============================] - 42s - loss: 0.0254 - acc: 0.9916 - val_loss: 0.1187 - val_acc: 0.9706\n",
      "Epoch 7/10\n",
      "60000/60000 [==============================] - 43s - loss: 0.0228 - acc: 0.9924 - val_loss: 0.0803 - val_acc: 0.9805\n",
      "Epoch 8/10\n",
      "60000/60000 [==============================] - 44s - loss: 0.0184 - acc: 0.9944 - val_loss: 0.0987 - val_acc: 0.9791\n",
      "Epoch 9/10\n",
      "60000/60000 [==============================] - 44s - loss: 0.0171 - acc: 0.9946 - val_loss: 0.0815 - val_acc: 0.9838\n",
      "Epoch 10/10\n",
      "60000/60000 [==============================] - 42s - loss: 0.0174 - acc: 0.9947 - val_loss: 0.0786 - val_acc: 0.9828 ETA: 0s - loss: 0.01\n"
     ]
    }
   ],
   "source": [
    "csv_logger20 = CSVLogger('training20.csv')\n",
    "h20=network20.fit(train_images,train_labels, verbose = True, validation_data=(test_images,test_labels),epochs=10,batch_size=32, callbacks=[csv_logger20])\n"
   ]
  },
  {
   "cell_type": "code",
   "execution_count": 43,
   "metadata": {},
   "outputs": [
    {
     "name": "stdout",
     "output_type": "stream",
     "text": [
      "_________________________________________________________________\n",
      "Layer (type)                 Output Shape              Param #   \n",
      "=================================================================\n",
      "dense_28 (Dense)             (None, 784)               615440    \n",
      "_________________________________________________________________\n",
      "dense_29 (Dense)             (None, 784)               615440    \n",
      "_________________________________________________________________\n",
      "dense_30 (Dense)             (None, 10)                7850      \n",
      "=================================================================\n",
      "Total params: 1,238,730\n",
      "Trainable params: 1,238,730\n",
      "Non-trainable params: 0\n",
      "_________________________________________________________________\n"
     ]
    }
   ],
   "source": [
    "network21=models.Sequential()\n",
    "network21.add(layers.Dense(784,activation='relu',input_shape=(28*28,)))\n",
    "network21.add(layers.Dense(784, activation = 'relu'))\n",
    "network21.add(layers.Dense(10,activation='softmax'))\n",
    "network21.compile(optimizer='adam',loss='categorical_crossentropy',metrics=['accuracy'])\n",
    "network21.summary()\n"
   ]
  },
  {
   "cell_type": "code",
   "execution_count": 44,
   "metadata": {},
   "outputs": [
    {
     "name": "stdout",
     "output_type": "stream",
     "text": [
      "Train on 60000 samples, validate on 10000 samples\n",
      "Epoch 1/10\n",
      "60000/60000 [==============================] - 83s - loss: 0.1815 - acc: 0.9446 - val_loss: 0.1018 - val_acc: 0.9680\n",
      "Epoch 2/10\n",
      "60000/60000 [==============================] - 163s - loss: 0.0811 - acc: 0.9753 - val_loss: 0.0889 - val_acc: 0.9720\n",
      "Epoch 3/10\n",
      "60000/60000 [==============================] - 188s - loss: 0.0560 - acc: 0.9821 - val_loss: 0.0702 - val_acc: 0.9798\n",
      "Epoch 4/10\n",
      "60000/60000 [==============================] - 100s - loss: 0.0443 - acc: 0.9863 - val_loss: 0.1000 - val_acc: 0.9715oss: 0.0442 - acc:\n",
      "Epoch 5/10\n",
      "60000/60000 [==============================] - 202s - loss: 0.0353 - acc: 0.9889 - val_loss: 0.0966 - val_acc: 0.9780\n",
      "Epoch 6/10\n",
      "60000/60000 [==============================] - 190s - loss: 0.0312 - acc: 0.9907 - val_loss: 0.1070 - val_acc: 0.9760- - ETA\n",
      "Epoch 7/10\n",
      "60000/60000 [==============================] - 192s - loss: 0.0293 - acc: 0.9915 - val_loss: 0.1009 - val_acc: 0.9759\n",
      "Epoch 8/10\n",
      "60000/60000 [==============================] - 191s - loss: 0.0249 - acc: 0.9927 - val_loss: 0.1017 - val_acc: 0.9788\n",
      "Epoch 9/10\n",
      "60000/60000 [==============================] - 196s - loss: 0.0228 - acc: 0.9936 - val_loss: 0.0831 - val_acc: 0.9825\n",
      "Epoch 10/10\n",
      "60000/60000 [==============================] - 195s - loss: 0.0209 - acc: 0.9940 - val_loss: 0.1005 - val_acc: 0.9795\n"
     ]
    }
   ],
   "source": [
    "csv_logger21 = CSVLogger('training21.csv')\n",
    "h21=network21.fit(train_images,train_labels, verbose = True, validation_data=(test_images,test_labels),epochs=10,batch_size=32, callbacks=[csv_logger21])\n"
   ]
  },
  {
   "cell_type": "code",
   "execution_count": 45,
   "metadata": {},
   "outputs": [
    {
     "name": "stdout",
     "output_type": "stream",
     "text": [
      "_________________________________________________________________\n",
      "Layer (type)                 Output Shape              Param #   \n",
      "=================================================================\n",
      "dense_31 (Dense)             (None, 784)               615440    \n",
      "_________________________________________________________________\n",
      "dense_32 (Dense)             (None, 1024)              803840    \n",
      "_________________________________________________________________\n",
      "dense_33 (Dense)             (None, 10)                10250     \n",
      "=================================================================\n",
      "Total params: 1,429,530\n",
      "Trainable params: 1,429,530\n",
      "Non-trainable params: 0\n",
      "_________________________________________________________________\n"
     ]
    }
   ],
   "source": [
    "network22=models.Sequential()\n",
    "network22.add(layers.Dense(784,activation='relu',input_shape=(28*28,)))\n",
    "network22.add(layers.Dense(1024, activation = 'relu'))\n",
    "network22.add(layers.Dense(10,activation='softmax'))\n",
    "network22.compile(optimizer='adam',loss='categorical_crossentropy',metrics=['accuracy'])\n",
    "network22.summary()\n"
   ]
  },
  {
   "cell_type": "code",
   "execution_count": 46,
   "metadata": {},
   "outputs": [
    {
     "name": "stdout",
     "output_type": "stream",
     "text": [
      "Train on 60000 samples, validate on 10000 samples\n",
      "Epoch 1/10\n",
      "60000/60000 [==============================] - 223s - loss: 0.1808 - acc: 0.9443 - val_loss: 0.1185 - val_acc: 0.9643\n",
      "Epoch 2/10\n",
      "60000/60000 [==============================] - 222s - loss: 0.0811 - acc: 0.9753 - val_loss: 0.0852 - val_acc: 0.9753\n",
      "Epoch 3/10\n",
      "60000/60000 [==============================] - 226s - loss: 0.0572 - acc: 0.9822 - val_loss: 0.1045 - val_acc: 0.9715\n",
      "Epoch 4/10\n",
      "60000/60000 [==============================] - 224s - loss: 0.0466 - acc: 0.9860 - val_loss: 0.0804 - val_acc: 0.9776\n",
      "Epoch 5/10\n",
      "60000/60000 [==============================] - 221s - loss: 0.0378 - acc: 0.9883 - val_loss: 0.0931 - val_acc: 0.9746\n",
      "Epoch 6/10\n",
      "60000/60000 [==============================] - 224s - loss: 0.0307 - acc: 0.9906 - val_loss: 0.0775 - val_acc: 0.9795\n",
      "Epoch 7/10\n",
      "60000/60000 [==============================] - 223s - loss: 0.0277 - acc: 0.9914 - val_loss: 0.0793 - val_acc: 0.9815\n",
      "Epoch 8/10\n",
      "60000/60000 [==============================] - 225s - loss: 0.0239 - acc: 0.9930 - val_loss: 0.0965 - val_acc: 0.9808\n",
      "Epoch 9/10\n",
      "60000/60000 [==============================] - 221s - loss: 0.0259 - acc: 0.9927 - val_loss: 0.1211 - val_acc: 0.9797\n",
      "Epoch 10/10\n",
      "60000/60000 [==============================] - 221s - loss: 0.0234 - acc: 0.9933 - val_loss: 0.1031 - val_acc: 0.9800\n"
     ]
    }
   ],
   "source": [
    "csv_logger22 = CSVLogger('training22.csv')\n",
    "h22=network22.fit(train_images,train_labels, verbose = True, validation_data=(test_images,test_labels),epochs=10,batch_size=32, callbacks=[csv_logger22])\n"
   ]
  },
  {
   "cell_type": "code",
   "execution_count": 48,
   "metadata": {},
   "outputs": [],
   "source": [
    "no_128 = pd.read_csv('training20.csv')\n",
    "no_784 = pd.read_csv('training21.csv')\n",
    "no_1024 = pd.read_csv('training22.csv')"
   ]
  },
  {
   "cell_type": "code",
   "execution_count": 49,
   "metadata": {},
   "outputs": [
    {
     "data": {
      "image/png": "[encoded data removed]",
      "text/plain": [
       "<matplotlib.figure.Figure at 0x1f375d9ae80>"
      ]
     },
     "metadata": {},
     "output_type": "display_data"
    }
   ],
   "source": [
    "pylab.plot(no_128['epoch'],no_128['val_acc'],label = '128_nuerons')\n",
    "pylab.plot(no_784['epoch'], no_784['val_acc'],label = '784_nuerons')\n",
    "pylab.plot(no_1024['epoch'], no_1024['val_acc'],label = '1024_nuerons')\n",
    "figure = pylab.legend(loc = 'upper right')\n",
    "pylab.xlabel(\"No of Epochs\")\n",
    "pylab.ylabel(\"Validation Accuracy\")\n",
    "plt.title('Accuracy_with_different_nuerons')\n",
    "pylab.savefig(\"Accuracy_with_different_nuerons\")\n",
    "pylab.show()\n"
   ]
  },
  {
   "cell_type": "code",
   "execution_count": null,
   "metadata": {
    "collapsed": true
   },
   "outputs": [],
   "source": []
  },
  {
   "cell_type": "code",
   "execution_count": null,
   "metadata": {
    "collapsed": true
   },
   "outputs": [],
   "source": []
  }
 ],
 "metadata": {
  "kernelspec": {
   "display_name": "Python 3",
   "language": "python",
   "name": "python3"
  },
  "language_info": {
   "codemirror_mode": {
    "name": "ipython",
    "version": 3
   },
   "file_extension": ".py",
   "mimetype": "text/x-python",
   "name": "python",
   "nbconvert_exporter": "python",
   "pygments_lexer": "ipython3",
   "version": "3.5.4"
  }
 },
 "nbformat": 4,
 "nbformat_minor": 2
}
